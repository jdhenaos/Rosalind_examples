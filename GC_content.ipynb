{
 "cells": [
  {
   "cell_type": "code",
   "execution_count": 80,
   "metadata": {
    "collapsed": false,
    "scrolled": true
   },
   "outputs": [
    {
     "name": "stdout",
     "output_type": "stream",
     "text": [
      "Rosalind_9647\n",
      "\n",
      "49.5963091119\n",
      "Rosalind_6066\n",
      "\n",
      "50.8988764045\n",
      "Rosalind_4907\n",
      "\n",
      "50.9411764706\n",
      "Rosalind_9701\n",
      "\n",
      "53.3860045147\n",
      "Rosalind_4027\n",
      "\n",
      "49.0155440415\n",
      "Rosalind_7927\n",
      "\n",
      "50.8591065292\n",
      "Rosalind_9722\n",
      "\n",
      "52.6806526807\n",
      "Rosalind_4032\n",
      "\n",
      "47.9484173505\n",
      "Rosalind_1071\n",
      "\n",
      "50.7462686567\n"
     ]
    }
   ],
   "source": [
    "File = open('rosalind_gc.txt','r')\n",
    "\n",
    "cadena = ''\n",
    "\n",
    "for n in File:\n",
    "    cadena = cadena + n\n",
    "\n",
    "for i in cadena.split('>'):\n",
    "    if i.count('G') != 0:\n",
    "        print i[0:14]\n",
    "        total = i.count('G')+i.count('C')+i.count('A')+i.count('T')\n",
    "        GC = i.count('G')+i.count('C')\n",
    "        print (float(GC)/float(total))*100"
   ]
  },
  {
   "cell_type": "code",
   "execution_count": null,
   "metadata": {
    "collapsed": true
   },
   "outputs": [],
   "source": []
  }
 ],
 "metadata": {
  "kernelspec": {
   "display_name": "Python 2",
   "language": "python",
   "name": "python2"
  },
  "language_info": {
   "codemirror_mode": {
    "name": "ipython",
    "version": 2
   },
   "file_extension": ".py",
   "mimetype": "text/x-python",
   "name": "python",
   "nbconvert_exporter": "python",
   "pygments_lexer": "ipython2",
   "version": "2.7.6"
  }
 },
 "nbformat": 4,
 "nbformat_minor": 0
}
