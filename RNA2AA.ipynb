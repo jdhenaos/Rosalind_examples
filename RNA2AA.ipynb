{
 "cells": [
  {
   "cell_type": "code",
   "execution_count": 50,
   "metadata": {
    "collapsed": true
   },
   "outputs": [],
   "source": [
    "import re\n",
    "import sys"
   ]
  },
  {
   "cell_type": "code",
   "execution_count": 66,
   "metadata": {
    "collapsed": false
   },
   "outputs": [
    {
     "name": "stdout",
     "output_type": "stream",
     "text": [
      "MIRGGAWEGPQFLSFLNRGSTSLGPGSWDMVGRLAYIPAGFWLPLLISPFARSTQYRWHYIVATIQLRVVGFDVTTVTLARCNLFAQTELGCNHQCLGEGTTLDEVRSPHDQSHAIGRNEMKHRARLAFSVATSCRGGPNQPPALVDVPEHDNFSGGEGTATPPYYLRTEMAFPPLTILELRIFLRMPNSEGVVIIGRTFESRSPLAAASTVGASLADDTIRPGPTFTCNLIVKRILGNLLRNYVSQVLLQLLRNLRVHFTPIGPPLLTPDCFCQSKQSHLECHSGVLAYLSHVGRAGIGGGPLLGPFAPWGQRIWTGYRTYRPSRHPRGRQSGGATSNHNTHCSHSNCNLSVPPPIICVSKWSLGGSGEVHVIWGASPICMKVAAPAICGICLFICCDLIVFILGTTAPVFPGGRSYNPNPDTTFDPGKSPASREGSGTCGRPLTRNSEKSRPGQVVNHPHLRRAARLQQSVNWLCLWCSDANSFLGFSRYAIPGAAARVAVCVGVWSIRSPRYLRESKTQGFYQKPPTRRRACHRRDNGPLVSPYDIIRFDVCHQSRRLNKCRTMAMTPAGGPLDTSTRCPFKTVGTVLSADANPVQLLEVFKQPAPPIYSAISAKGTGVSRILSGMPWGSANLPINFVDAETAEKLLCETSPRGHVVSERSISGPHRGRDNADQDNGSFARPWRLAKHATYGLVSLLHAFIENQVGDVVEPWLFSQIEIPDPCPNATGYALIKHIWSCSGLARSLPVRIIREPPAGPRIPRIAHYLSLSKYKNAQLSRRLMRPDAYVAAVSNAQRIILLEYYYQDVRRLHTTKGYVYTHVMSAPLSLELVPNSKNPSRFRTCTVREFETAARITNIGKLRAESVPLAASLNKSFTVCSSVPGELSDLYTLAAMECLKPQPTPRDASVHTTERWFVVILSPLSRTCADDPRAYDMPSPACFWRRGTCSSYTVPTNNGRKLCPSFNPHYGSRVGVYRWSRLVQMKQSPSLRPLSVTKMILFERPLRPNRATITPMTPIESGLYGGAQKFIKGVNVRYSLPVLFWGQSIDVLPRSLSKYPTIMAGVHVHGDCCLMSYSARRFSGKDLPPMVLPMILRCMSWPLAPPCPNKNIPTSLGVLTSPPFAMRRLGPITLITLRVHYPCLDDLKISKYIFGHYANGRPRSSTVSRWNERAGPHGTKRQRMCGTWQHVGGLYILDVTGNIFIYSSVATRRLVTAHSSLHHTTNLKVLSTLFLTNHFPPVEYCANLPPRYVSVLGRLPIAYFGEVNLCQTHGAVKQGGHFERMPMTAAYWRSAIALRVVFIGLPGNLAPKPILPSTRPEAQTAAHNGRRVMPKQSSPRAQCPEHERAPRKRDYIGDSEVRKALRGGREPDIMSWRPRRPPRYVLSPFYVLLSRVRNALDCCTLYTKIPPNHRGYYQLRASGRINQSHVTEPDMFGTAGALGYRTYILLTTFASGYCHLYPTFINPRSITPTWHPNSYLCEGTPRLRVRQVLAIGGLSQNAYSGKDLGPISICIDGSRNAEVAPATRQHSLQFYRNKQIKEVCNRRFRLTFDRAYLIYFRGDSLHLAGTIFVFGNRGTIGRARPKQGSRAATVISPYKLLQLRRDTNKHLRKKFRLTDSISPEGNGLSRYARGSINTVTKSDLDVTILWRRKSPATLTLHAAHLVCPSASYSALGLYVLMRSISSLIWLRRAGRNTDILTRVLLIGFHGDPGKSNHSNIDSEHCICSLCLTALSYGRHLGVLSEVRARKSGVATTGTSRRNLITDPFPNSGRYDSSIISCYHKPSVEPLFTFYACVFQPYRCSGSKLMGIFQPTSFGLVLPKPKPRLIEFKTLSNEKENTESQILIQAHWGFSRRTRGVKAQSGPALSDKPLWLYASLHPAVRGPLTCVPVCPTPKYTASSQIERSQIPTHKTRSVIMKVPAIYFEVANRFNCRNRSHYCGWVSHSRTITLRSAAGRQESTTTVSTFRHLSIDTTFVDFRGTGARFHMGVERMQRLRCLLMVNPCGCMKRLRFMPVSVYMAGPHNTGRLIDVKIYVFDGVAGKSSAMSELSYRDIAQLCPTEVSRYQKNRNKFSKRSEAKGSLTPYPCGRYSLNTAWGTIVLRGGEIRLQSCNPRRCLSSLHCRGTMTPAVLVAQCLRLTINPLTRTAVILRRILKLFEACDEFSTEPSFLAYLIKVSGISKGIVNIGYMRCWLRDVRSMATARDNSKSPSVQQGDYTAAFPWITPSAIVGGNSIGTNPLIIYHDVRPSPGVQCIQSVRNLEASIAWSGSYSSYCRLNVMRAPTYSYPLCTKGVSCVRYKVGEGKSGTLNQRLWLQAYLTTAAYPRSPAYSLPCEPWLWYLRRYLACLSFLRLFGAATCMEGLASAGGDWLLLDTGGGLPIRRNWCGRFLDTFTLWDHPGRDTRITTLPAHRSHSRKAMGSTDDPGDSGGGLGGSKGRASYPNSIWPRGIRNSDGRLPSSIGGFSPFNRHTPRRCTIVCLPKDRTFAAIIRPRIFEVTGIKWPKSSGEVCQAAEEKLVHRTPWRLRNRMAPFRTRGCLGPSVKPEPVTMERAGTAATVRTVGRFVLFSYWVSKLFQISWCQHSREDKDSGSAFEPRTISALCALLTNPYLPSQFYSRTSRGVEPRFTKNAAFRQKGTNCPAPLASLMSLGKLTARMFRPTNQRSAARLYVPSRHHPLTSQGFPDTVRDPPQIMLYEKTTERAGIGGSRILTAWLVPLGIHVALFPKMAGSGADNYKVSGVCVPLLVLFLPVRVGAPERCTFNLTGLGPASRRGSRTVAPIGMGKQHWH"
     ]
    }
   ],
   "source": [
    "infile = open(\"rosalind_prot.txt\")\n",
    "\n",
    "rna = str(infile.read())\n",
    "\n",
    "init = 0\n",
    "final = 3\n",
    "\n",
    "while final <= len(rna):\n",
    "    \n",
    "    if re.search(\"^UU[U,C]$\",rna[init:final]):\n",
    "        sys.stdout.write(\"F\")\n",
    "    elif re.search(\"^UU[A,G]$\",rna[init:final]):\n",
    "        sys.stdout.write(\"L\")\n",
    "    elif re.search(\"^CU[U,C,G,A]$\",rna[init:final]):\n",
    "        sys.stdout.write(\"L\")\n",
    "    elif re.search(\"^AU[U,C,A]$\",rna[init:final]):\n",
    "        sys.stdout.write(\"I\")\n",
    "    elif re.search(\"^AUG$\",rna[init:final]):\n",
    "        sys.stdout.write(\"M\")\n",
    "    elif re.search(\"^GU[U,C,A,G]$\",rna[init:final]):\n",
    "        sys.stdout.write(\"V\")\n",
    "    elif re.search(\"^UC[U,C,G,A]$\",rna[init:final]):\n",
    "        sys.stdout.write(\"S\")\n",
    "    elif re.search(\"^CC[U,C,G,A]$\",rna[init:final]):\n",
    "        sys.stdout.write(\"P\")\n",
    "    elif re.search(\"^AC[U,C,G,A]$\",rna[init:final]):\n",
    "        sys.stdout.write(\"T\")\n",
    "    elif re.search(\"^GC[U,C,A,G]$\",rna[init:final]):\n",
    "        sys.stdout.write(\"A\")\n",
    "    elif re.search(\"^UA[U,C]$\",rna[init:final]):\n",
    "        sys.stdout.write(\"Y\")\n",
    "    elif re.search(\"^CA[U,C]$\",rna[init:final]):\n",
    "        sys.stdout.write(\"H\")\n",
    "    elif re.search(\"^CA[A,G]$\",rna[init:final]):\n",
    "        sys.stdout.write(\"Q\")\n",
    "    elif re.search(\"^AA[U,C]$\",rna[init:final]):\n",
    "        sys.stdout.write(\"N\")\n",
    "    elif re.search(\"^AA[G,A]$\",rna[init:final]):\n",
    "        sys.stdout.write(\"K\")\n",
    "    elif re.search(\"^GA[U,C]$\",rna[init:final]):\n",
    "        sys.stdout.write(\"D\")\n",
    "    elif re.search(\"^GA[G,A]$\",rna[init:final]):\n",
    "        sys.stdout.write(\"E\")\n",
    "    elif re.search(\"^UG[U,C]$\",rna[init:final]):\n",
    "        sys.stdout.write(\"C\")\n",
    "    elif re.search(\"^UGG$\",rna[init:final]):\n",
    "        sys.stdout.write(\"W\")\n",
    "    elif re.search(\"^CG[U,C,G,A]$\",rna[init:final]):\n",
    "        sys.stdout.write(\"R\")\n",
    "    elif re.search(\"^AG[U,C]$\",rna[init:final]):\n",
    "        sys.stdout.write(\"S\")\n",
    "    elif re.search(\"^AG[A,G]$\",rna[init:final]):\n",
    "        sys.stdout.write(\"R\")\n",
    "    elif re.search(\"^GG[U,C,G,A]$\",rna[init:final]):\n",
    "        sys.stdout.write(\"G\")\n",
    "    \n",
    "    init+=3\n",
    "    final+=3"
   ]
  },
  {
   "cell_type": "code",
   "execution_count": null,
   "metadata": {
    "collapsed": true
   },
   "outputs": [],
   "source": []
  }
 ],
 "metadata": {
  "kernelspec": {
   "display_name": "Python 2",
   "language": "python",
   "name": "python2"
  },
  "language_info": {
   "codemirror_mode": {
    "name": "ipython",
    "version": 2
   },
   "file_extension": ".py",
   "mimetype": "text/x-python",
   "name": "python",
   "nbconvert_exporter": "python",
   "pygments_lexer": "ipython2",
   "version": "2.7.6"
  }
 },
 "nbformat": 4,
 "nbformat_minor": 0
}
