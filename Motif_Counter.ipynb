{
 "cells": [
  {
   "cell_type": "code",
   "execution_count": 4,
   "metadata": {
    "collapsed": false
   },
   "outputs": [
    {
     "name": "stdout",
     "output_type": "stream",
     "text": [
      " 13 112 119 193 200 216 234 241 258 314 377 506 690 700 707 724 731 801 808\n"
     ]
    }
   ],
   "source": [
    "infile = open(\"rosalind_subs.txt\")\n",
    "\n",
    "var1, var2 = infile.read().split()\n",
    "\n",
    "first_list = []\n",
    "final_list = []\n",
    "\n",
    "init_pos = 0\n",
    "\n",
    "for i in range(len(var1)):\n",
    "    pos = var1.find(var2,init_pos)\n",
    "    if pos != -1:\n",
    "        first_list.append(pos+1)\n",
    "    init_pos += 1\n",
    "\n",
    "for n in first_list:\n",
    "    if n not in final_list:\n",
    "        final_list.append(n)\n",
    "\n",
    "result = \"\"\n",
    "        \n",
    "for x in final_list:\n",
    "    result = result+\" \"+str(x)\n",
    "\n",
    "print result\n"
   ]
  },
  {
   "cell_type": "code",
   "execution_count": null,
   "metadata": {
    "collapsed": true
   },
   "outputs": [],
   "source": []
  }
 ],
 "metadata": {
  "kernelspec": {
   "display_name": "Python 2",
   "language": "python",
   "name": "python2"
  },
  "language_info": {
   "codemirror_mode": {
    "name": "ipython",
    "version": 2
   },
   "file_extension": ".py",
   "mimetype": "text/x-python",
   "name": "python",
   "nbconvert_exporter": "python",
   "pygments_lexer": "ipython2",
   "version": "2.7.6"
  }
 },
 "nbformat": 4,
 "nbformat_minor": 0
}
